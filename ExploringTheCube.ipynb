{
 "cells": [
  {
   "cell_type": "code",
   "execution_count": 18,
   "id": "55158b65-eb71-458d-a60a-25b7d71eb5e6",
   "metadata": {},
   "outputs": [],
   "source": [
    "import sys\n",
    "from typing import Iterable\n",
    "from pathlib import Path\n",
    "from datetime import datetime\n",
    "CardListType = list[str]\n",
    "\n",
    "\n",
    "def cube_excel2txt(file: Path) -> Iterable[str]:\n",
    "    \"\"\"convert excel spoiler to a single card with name list\"\"\"\n",
    "    df = pd.read_excel(file, sheet_name=\"Spoiler\")\n",
    "    cards = df.sort_values(['ve', 'Name']).Name.to_list()\n",
    "    for card in cards:\n",
    "        yield card\n",
    "    # return cards\n",
    "\n",
    "\n",
    "def txt_writer(cards: Iterable[str], file: Path, mode='w'):\n",
    "    modes = ('w', 'a')\n",
    "    if mode not in modes:\n",
    "        raise ValueError(f\"Use acceptable modes {modes}\")\n",
    "    with file.open(mode) as fh:\n",
    "        for card in cards:\n",
    "            fh.write(f\"{card}\\n\")\n",
    "\n",
    "\n",
    "def read_list(file: Path):\n",
    "    with file.open('r') as fh:\n",
    "        payload = (card.strip() for card in fh.readlines() if len(card.strip()) and not card.startswith('#'))\n",
    "    return payload\n",
    "\n",
    "\n",
    "def write_list(cards: Iterable[str], file: Path):\n",
    "    with file.open('w', encoding='utf-8') as fh:\n",
    "        for card in cards:\n",
    "            fh.write(f\"{card}\\n\")\n",
    "\n",
    "\n",
    "def main(current_cube_f: Path, new_cube_f: Path, side_board_f: Path) -> tuple[CardListType]:\n",
    "    now = datetime.now()\n",
    "    date = now.strftime('%Y-%m')\n",
    "    old_cube = set(read_list(current_cube_f))\n",
    "    new_cube = set(read_list(new_cube_f))\n",
    "    side_board = set(read_list(side_board_f))\n",
    "\n",
    "    cards_out = old_cube - new_cube\n",
    "    cards_in = new_cube - old_cube\n",
    "    buy_list = cards_in - side_board\n",
    "    side_board_list = cards_in - buy_list\n",
    "\n",
    "    buylist_f = Path(f'{date}-buylist.txt')\n",
    "    sidelist_f = Path(f'{date}-sidelist.txt')\n",
    "    cards_out_f = Path(f'{date}-cards-out.txt')\n",
    "    cards_in_f = Path(f'{date}-cards-in.txt')\n",
    "    files = (buylist_f, sidelist_f, cards_out_f, cards_in_f)\n",
    "    lists_ = (buy_list, side_board_list, cards_out, cards_in)\n",
    "    for list_, file in zip(lists_, files):\n",
    "        write_list(list_, file)    \n",
    "    return lists_"
   ]
  },
  {
   "cell_type": "code",
   "execution_count": 19,
   "id": "acc776e6",
   "metadata": {},
   "outputs": [],
   "source": [
    "now = datetime.now()\n",
    "here = Path()\n",
    "current_cube_f = here / \"revs/2024-07/current-cube-list-20211011rev2.txt\"\n",
    "new_cube_f =here / 'revs/2021-10/ThePauperCubeSnapshot20241017.txt'\n",
    "side_board_f = here / \"revs/2024-07/paupercubesideboard-20240727.txt\"\n",
    "\n",
    "lists_ = main(current_cube_f, new_cube_f, side_board_f);"
   ]
  },
  {
   "cell_type": "code",
   "execution_count": 15,
   "id": "999a8ae5-0739-47ae-8762-248731542bd0",
   "metadata": {},
   "outputs": [
    {
     "ename": "SyntaxError",
     "evalue": "unterminated string literal (detected at line 1) (2938872972.py, line 1)",
     "output_type": "error",
     "traceback": [
      "\u001b[1;36m  Cell \u001b[1;32mIn[15], line 1\u001b[1;36m\u001b[0m\n\u001b[1;33m    Path().resolve() / 'revs/2021-10/ThePauperCubeSnapshot20241017.txt\u001b[0m\n\u001b[1;37m                       ^\u001b[0m\n\u001b[1;31mSyntaxError\u001b[0m\u001b[1;31m:\u001b[0m unterminated string literal (detected at line 1)\n"
     ]
    }
   ],
   "source": [
    "Path().resolve() / 'revs/2021-10/ThePauperCubeSnapshot20241017.txt"
   ]
  },
  {
   "cell_type": "code",
   "execution_count": null,
   "id": "be8b9e83-6b24-4bc1-b7d1-8bee806be827",
   "metadata": {},
   "outputs": [],
   "source": []
  }
 ],
 "metadata": {
  "kernelspec": {
   "display_name": "Python 3 (ipykernel)",
   "language": "python",
   "name": "python3"
  },
  "language_info": {
   "codemirror_mode": {
    "name": "ipython",
    "version": 3
   },
   "file_extension": ".py",
   "mimetype": "text/x-python",
   "name": "python",
   "nbconvert_exporter": "python",
   "pygments_lexer": "ipython3",
   "version": "3.12.4"
  }
 },
 "nbformat": 4,
 "nbformat_minor": 5
}
